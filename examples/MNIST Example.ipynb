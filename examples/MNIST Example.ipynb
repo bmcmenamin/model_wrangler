{
 "cells": [
  {
   "cell_type": "code",
   "execution_count": 1,
   "metadata": {
    "collapsed": true
   },
   "outputs": [],
   "source": [
    "import os\n",
    "import sys\n",
    "\n",
    "sys.path.append(os.path.pardir)\n",
    "\n",
    "EXAMPLE_DIR = os.path.curdir\n",
    "DATA_DIR = os.path.join(EXAMPLE_DIR, 'mnist_data')\n",
    "\n",
    "if not os.path.exists(DATA_DIR):\n",
    "    os.makedirs(DATA_DIR)"
   ]
  },
  {
   "cell_type": "code",
   "execution_count": 2,
   "metadata": {},
   "outputs": [],
   "source": [
    "# Download MNIST dataset\n",
    "\n",
    "import numpy as np\n",
    "from sklearn.datasets import fetch_mldata\n",
    "\n",
    "def onehot_encoding(categories, max_categories):\n",
    "    \"\"\"Given a list of integer categories (out of a set of max_categories)\n",
    "    return one-hot enocded values\"\"\"\n",
    "\n",
    "    out_array = np.zeros((len(categories), max_categories))\n",
    "    for key, val in enumerate(categories):\n",
    "        out_array[key, int(val)] = 1.0\n",
    "\n",
    "    return out_array\n",
    "\n",
    "\n",
    "mnist_data = fetch_mldata('MNIST original', data_home=DATA_DIR)\n",
    "\n",
    "image_data = mnist_data['data'].reshape(-1, 28, 28, order='F')[..., np.newaxis]\n",
    "image_labels = onehot_encoding(list(mnist_data['target']), 10)\n",
    "del mnist_data\n",
    "\n",
    "#%matplotlib inline\n",
    "#import matplotlib.pyplot as plt\n",
    "#imgplot = plt.imshow(image_data[4,:,:])"
   ]
  },
  {
   "cell_type": "code",
   "execution_count": 3,
   "metadata": {},
   "outputs": [
    {
     "name": "stdout",
     "output_type": "stream",
     "text": [
      "2017-11-04 22:42:31,107 model_wrangler.tf_models INFO     Save directory : ./mnist_example\n",
      "2017-11-04 22:42:31,109 model_wrangler.tf_models INFO     Directory ./mnist_example already exists\n",
      "2017-11-04 22:42:31,110 model_wrangler.tf_models INFO     Save directory : ./mnist_example/tb_log\n",
      "2017-11-04 22:42:31,111 model_wrangler.tf_models INFO     Directory ./mnist_example/tb_log already exists\n"
     ]
    }
   ],
   "source": [
    "# Initialize the model\n",
    "\n",
    "from model_wrangler.corral.convolutional_feedforward import ConvolutionalFeedforward\n",
    "from model_wrangler.dataset_managers import CategoricalDataManager\n",
    "\n",
    "model_name = \"mnist_example\"\n",
    "\n",
    "conv_ff_network = ConvolutionalFeedforward(\n",
    "    name=model_name,\n",
    "    verb=True,\n",
    "    in_size=[28, 28, 1],\n",
    "    out_size=10,\n",
    "    conv_nodes=[16, 24],\n",
    "    conv_params={\n",
    "        'dropout_rate': 0.0,\n",
    "        'kernel': [5, 5],\n",
    "        'strides': 2,\n",
    "        'pool_size': 2,\n",
    "    },\n",
    "    dense_nodes=[10],\n",
    "    dense_params={\n",
    "        'dropout_rate': 0.1,\n",
    "        'activation': 'relu',\n",
    "        'act_reg': None,\n",
    "    },\n",
    "    output_params={\n",
    "        'dropout_rate': None,\n",
    "        'activation': 'softmax',\n",
    "        'act_reg': None,\n",
    "    },\n",
    "    num_epochs=10\n",
    ")\n",
    "\n",
    "conv_ff_network.tf_mod.DATA_CLASS = CategoricalDataManager"
   ]
  },
  {
   "cell_type": "code",
   "execution_count": 4,
   "metadata": {
    "collapsed": true
   },
   "outputs": [],
   "source": [
    "from model_wrangler.tf_ops import accuracy"
   ]
  },
  {
   "cell_type": "code",
   "execution_count": 5,
   "metadata": {},
   "outputs": [
    {
     "data": {
      "text/plain": [
       "0.063428573"
      ]
     },
     "execution_count": 5,
     "metadata": {},
     "output_type": "execute_result"
    }
   ],
   "source": [
    "conv_ff_network.score(\n",
    "    image_data[::10, :, :, :],\n",
    "    image_labels[::10, :],\n",
    "    accuracy\n",
    ")"
   ]
  },
  {
   "cell_type": "code",
   "execution_count": 6,
   "metadata": {
    "scrolled": false
   },
   "outputs": [
    {
     "name": "stdout",
     "output_type": "stream",
     "text": [
      "2017-11-04 22:42:43,142 model_wrangler.dataset_managers INFO     Input data size (7000, 28)\n",
      "2017-11-04 22:42:43,169 model_wrangler.dataset_managers INFO     Input has 10 groups\n",
      "2017-11-04 22:42:43,176 model_wrangler.dataset_managers INFO     Num training samples 6305\n",
      "2017-11-04 22:42:43,177 model_wrangler.dataset_managers INFO     Num holdout samples 695\n",
      "2017-11-04 22:42:43,178 model_wrangler.model_wrangler INFO     Starting Epoch 0\n",
      "2017-11-04 22:42:43,626 model_wrangler.model_wrangler INFO     Batch 0: Training score = 3863.681396\n",
      "2017-11-04 22:42:43,627 model_wrangler.model_wrangler INFO     Batch 0: Holdout score = 11500.026367\n",
      "2017-11-04 22:42:47,006 model_wrangler.model_wrangler INFO     Saving weights file in ./mnist_example\n",
      "2017-11-04 22:42:47,820 model_wrangler.tf_models INFO     Save directory : ./mnist_example\n",
      "2017-11-04 22:42:47,821 model_wrangler.tf_models INFO     Directory ./mnist_example already exists\n",
      "2017-11-04 22:42:47,822 model_wrangler.tf_models INFO     Saving parameter file ./mnist_example/mnist_example-params.json\n",
      "2017-11-04 22:42:47,824 model_wrangler.model_wrangler INFO     Starting Epoch 1\n",
      "2017-11-04 22:42:48,169 model_wrangler.model_wrangler INFO     Batch 0: Training score = 3753.946777\n",
      "2017-11-04 22:42:48,169 model_wrangler.model_wrangler INFO     Batch 0: Holdout score = 10971.968750\n",
      "2017-11-04 22:42:51,343 model_wrangler.model_wrangler INFO     Saving weights file in ./mnist_example\n",
      "2017-11-04 22:42:52,308 model_wrangler.tf_models INFO     Save directory : ./mnist_example\n",
      "2017-11-04 22:42:52,309 model_wrangler.tf_models INFO     Directory ./mnist_example already exists\n",
      "2017-11-04 22:42:52,311 model_wrangler.tf_models INFO     Saving parameter file ./mnist_example/mnist_example-params.json\n",
      "2017-11-04 22:42:52,312 model_wrangler.model_wrangler INFO     Starting Epoch 2\n",
      "2017-11-04 22:42:52,656 model_wrangler.model_wrangler INFO     Batch 0: Training score = 1303.838989\n",
      "2017-11-04 22:42:52,657 model_wrangler.model_wrangler INFO     Batch 0: Holdout score = 3820.506104\n",
      "2017-11-04 22:42:56,195 model_wrangler.model_wrangler INFO     Saving weights file in ./mnist_example\n",
      "2017-11-04 22:42:57,212 model_wrangler.tf_models INFO     Save directory : ./mnist_example\n",
      "2017-11-04 22:42:57,213 model_wrangler.tf_models INFO     Directory ./mnist_example already exists\n",
      "2017-11-04 22:42:57,214 model_wrangler.tf_models INFO     Saving parameter file ./mnist_example/mnist_example-params.json\n",
      "2017-11-04 22:42:57,216 model_wrangler.model_wrangler INFO     Starting Epoch 3\n",
      "2017-11-04 22:42:57,640 model_wrangler.model_wrangler INFO     Batch 0: Training score = 222.263397\n",
      "2017-11-04 22:42:57,641 model_wrangler.model_wrangler INFO     Batch 0: Holdout score = 698.892395\n",
      "2017-11-04 22:43:01,490 model_wrangler.model_wrangler INFO     Saving weights file in ./mnist_example\n",
      "2017-11-04 22:43:02,353 model_wrangler.tf_models INFO     Save directory : ./mnist_example\n",
      "2017-11-04 22:43:02,354 model_wrangler.tf_models INFO     Directory ./mnist_example already exists\n",
      "2017-11-04 22:43:02,355 model_wrangler.tf_models INFO     Saving parameter file ./mnist_example/mnist_example-params.json\n",
      "2017-11-04 22:43:02,356 model_wrangler.model_wrangler INFO     Starting Epoch 4\n",
      "2017-11-04 22:43:02,711 model_wrangler.model_wrangler INFO     Batch 0: Training score = 223.544174\n",
      "2017-11-04 22:43:02,712 model_wrangler.model_wrangler INFO     Batch 0: Holdout score = 654.914307\n",
      "2017-11-04 22:43:06,055 model_wrangler.model_wrangler INFO     Saving weights file in ./mnist_example\n",
      "2017-11-04 22:43:07,079 model_wrangler.tf_models INFO     Save directory : ./mnist_example\n",
      "2017-11-04 22:43:07,080 model_wrangler.tf_models INFO     Directory ./mnist_example already exists\n",
      "2017-11-04 22:43:07,081 model_wrangler.tf_models INFO     Saving parameter file ./mnist_example/mnist_example-params.json\n",
      "2017-11-04 22:43:07,083 model_wrangler.model_wrangler INFO     Starting Epoch 5\n",
      "2017-11-04 22:43:07,474 model_wrangler.model_wrangler INFO     Batch 0: Training score = 44.380741\n",
      "2017-11-04 22:43:07,475 model_wrangler.model_wrangler INFO     Batch 0: Holdout score = 203.368164\n",
      "2017-11-04 22:43:11,390 model_wrangler.model_wrangler INFO     Saving weights file in ./mnist_example\n",
      "2017-11-04 22:43:12,623 model_wrangler.tf_models INFO     Save directory : ./mnist_example\n",
      "2017-11-04 22:43:12,624 model_wrangler.tf_models INFO     Directory ./mnist_example already exists\n",
      "2017-11-04 22:43:12,625 model_wrangler.tf_models INFO     Saving parameter file ./mnist_example/mnist_example-params.json\n",
      "2017-11-04 22:43:12,627 model_wrangler.model_wrangler INFO     Starting Epoch 6\n",
      "2017-11-04 22:43:13,141 model_wrangler.model_wrangler INFO     Batch 0: Training score = 28.449480\n",
      "2017-11-04 22:43:13,142 model_wrangler.model_wrangler INFO     Batch 0: Holdout score = 180.560516\n",
      "2017-11-04 22:43:17,609 model_wrangler.model_wrangler INFO     Saving weights file in ./mnist_example\n",
      "2017-11-04 22:43:18,606 model_wrangler.tf_models INFO     Save directory : ./mnist_example\n",
      "2017-11-04 22:43:18,607 model_wrangler.tf_models INFO     Directory ./mnist_example already exists\n",
      "2017-11-04 22:43:18,608 model_wrangler.tf_models INFO     Saving parameter file ./mnist_example/mnist_example-params.json\n",
      "2017-11-04 22:43:18,610 model_wrangler.model_wrangler INFO     Starting Epoch 7\n",
      "2017-11-04 22:43:19,072 model_wrangler.model_wrangler INFO     Batch 0: Training score = 26.892925\n",
      "2017-11-04 22:43:19,073 model_wrangler.model_wrangler INFO     Batch 0: Holdout score = 131.355927\n",
      "2017-11-04 22:43:22,760 model_wrangler.model_wrangler INFO     Saving weights file in ./mnist_example\n",
      "2017-11-04 22:43:23,738 model_wrangler.tf_models INFO     Save directory : ./mnist_example\n",
      "2017-11-04 22:43:23,740 model_wrangler.tf_models INFO     Directory ./mnist_example already exists\n",
      "2017-11-04 22:43:23,741 model_wrangler.tf_models INFO     Saving parameter file ./mnist_example/mnist_example-params.json\n",
      "2017-11-04 22:43:23,744 model_wrangler.model_wrangler INFO     Starting Epoch 8\n",
      "2017-11-04 22:43:24,131 model_wrangler.model_wrangler INFO     Batch 0: Training score = 20.241169\n",
      "2017-11-04 22:43:24,133 model_wrangler.model_wrangler INFO     Batch 0: Holdout score = 136.453384\n",
      "2017-11-04 22:43:27,521 model_wrangler.model_wrangler INFO     Saving weights file in ./mnist_example\n",
      "2017-11-04 22:43:28,629 model_wrangler.tf_models INFO     Save directory : ./mnist_example\n",
      "2017-11-04 22:43:28,630 model_wrangler.tf_models INFO     Directory ./mnist_example already exists\n",
      "2017-11-04 22:43:28,632 model_wrangler.tf_models INFO     Saving parameter file ./mnist_example/mnist_example-params.json\n",
      "2017-11-04 22:43:28,634 model_wrangler.model_wrangler INFO     Starting Epoch 9\n",
      "2017-11-04 22:43:29,049 model_wrangler.model_wrangler INFO     Batch 0: Training score = 9.053230\n",
      "2017-11-04 22:43:29,050 model_wrangler.model_wrangler INFO     Batch 0: Holdout score = 95.547333\n",
      "2017-11-04 22:43:32,529 model_wrangler.model_wrangler INFO     Saving weights file in ./mnist_example\n",
      "2017-11-04 22:43:33,543 model_wrangler.tf_models INFO     Save directory : ./mnist_example\n",
      "2017-11-04 22:43:33,545 model_wrangler.tf_models INFO     Directory ./mnist_example already exists\n",
      "2017-11-04 22:43:33,546 model_wrangler.tf_models INFO     Saving parameter file ./mnist_example/mnist_example-params.json\n"
     ]
    }
   ],
   "source": [
    "# Run training\n",
    "conv_ff_network.train(\n",
    "    image_data[::10, :, :, :],\n",
    "    image_labels[::10, :]\n",
    ")\n",
    "\n",
    "# monitor performance using tensorboard.\n",
    "# Set up a server: `tensorboard --logdir examples/mnist_example/tb_log`\n",
    "# and watch in a browser. Default at localhost:6006"
   ]
  },
  {
   "cell_type": "code",
   "execution_count": 7,
   "metadata": {},
   "outputs": [
    {
     "data": {
      "text/plain": [
       "0.99185717"
      ]
     },
     "execution_count": 7,
     "metadata": {},
     "output_type": "execute_result"
    }
   ],
   "source": [
    "conv_ff_network.score(\n",
    "    image_data[::10, :, :, :],\n",
    "    image_labels[::10, :],\n",
    "    accuracy\n",
    ")"
   ]
  },
  {
   "cell_type": "code",
   "execution_count": 10,
   "metadata": {},
   "outputs": [
    {
     "data": {
      "text/plain": [
       "0.97042859"
      ]
     },
     "execution_count": 10,
     "metadata": {},
     "output_type": "execute_result"
    }
   ],
   "source": [
    "conv_ff_network.score(\n",
    "    image_data[1::10, :, :, :],\n",
    "    image_labels[1::10, :],\n",
    "    accuracy\n",
    ")"
   ]
  },
  {
   "cell_type": "code",
   "execution_count": 8,
   "metadata": {},
   "outputs": [
    {
     "name": "stdout",
     "output_type": "stream",
     "text": [
      "2017-11-04 22:44:45,537 model_wrangler.tf_models INFO     Save directory : ./mnist_example\n",
      "2017-11-04 22:44:45,538 model_wrangler.tf_models INFO     Directory ./mnist_example already exists\n",
      "2017-11-04 22:44:45,539 model_wrangler.tf_models INFO     Save directory : ./mnist_example/tb_log\n",
      "2017-11-04 22:44:45,540 model_wrangler.tf_models INFO     Directory ./mnist_example/tb_log already exists\n",
      "INFO:tensorflow:Restoring parameters from ./mnist_example/mnist_example-00000009\n"
     ]
    }
   ],
   "source": [
    "# You can load the file from disk!\n",
    "param_file = os.path.join(model_name,'{}-params.json'.format(model_name))\n",
    "restored_model = ConvolutionalFeedforward.load(param_file)"
   ]
  },
  {
   "cell_type": "code",
   "execution_count": 9,
   "metadata": {},
   "outputs": [
    {
     "data": {
      "text/plain": [
       "0.99185717"
      ]
     },
     "execution_count": 9,
     "metadata": {},
     "output_type": "execute_result"
    }
   ],
   "source": [
    "restored_model.score(\n",
    "    image_data[::10, :, :, :],\n",
    "    image_labels[::10, :],\n",
    "    accuracy\n",
    ")"
   ]
  }
 ],
 "metadata": {
  "kernelspec": {
   "display_name": "Python 2",
   "language": "python",
   "name": "python2"
  },
  "language_info": {
   "codemirror_mode": {
    "name": "ipython",
    "version": 2
   },
   "file_extension": ".py",
   "mimetype": "text/x-python",
   "name": "python",
   "nbconvert_exporter": "python",
   "pygments_lexer": "ipython2",
   "version": "2.7.10"
  }
 },
 "nbformat": 4,
 "nbformat_minor": 2
}
